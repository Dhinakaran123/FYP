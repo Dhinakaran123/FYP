{
 "cells": [
  {
   "cell_type": "code",
   "execution_count": 4,
   "id": "ea8979e9",
   "metadata": {
    "colab": {
     "base_uri": "https://localhost:8080/"
    },
    "id": "ea8979e9",
    "outputId": "87ae0207-31ed-47f9-a398-34223c8e8386"
   },
   "outputs": [
    {
     "name": "stderr",
     "output_type": "stream",
     "text": [
      "[nltk_data] Downloading package words to\n",
      "[nltk_data]     C:\\Users\\cs\\AppData\\Roaming\\nltk_data...\n",
      "[nltk_data]   Package words is already up-to-date!\n",
      "[nltk_data] Downloading package punkt to\n",
      "[nltk_data]     C:\\Users\\cs\\AppData\\Roaming\\nltk_data...\n",
      "[nltk_data]   Package punkt is already up-to-date!\n"
     ]
    }
   ],
   "source": [
    "import pandas as pd\n",
    "import numpy as np\n",
    "import torch\n",
    "import torch.nn as nn\n",
    "import torch.nn.functional as F\n",
    "from torch.utils.data import DataLoader\n",
    "from tqdm import tqdm\n",
    "import os\n",
    "from sklearn.metrics import classification_report, f1_score\n",
    "from torch.utils.data import Dataset\n",
    "import collections\n",
    "import emoji\n",
    "import re\n",
    "from emot.emo_unicode import EMOTICONS_EMO\n",
    "import nltk\n",
    "nltk.download('words')\n",
    "import nltk, string, re, spacy,unicodedata, random\n",
    "nltk.download('punkt')\n",
    "from nltk.corpus import stopwords\n",
    "from nltk.tokenize import word_tokenize\n",
    "from nltk.tokenize import ToktokTokenizer"
   ]
  },
  {
   "cell_type": "code",
   "execution_count": 9,
   "id": "8U7ctfFUwtaL",
   "metadata": {
    "colab": {
     "base_uri": "https://localhost:8080/"
    },
    "id": "8U7ctfFUwtaL",
    "outputId": "2fd6c702-59a4-4d77-dfe3-bb8719e1e466"
   },
   "outputs": [
    {
     "name": "stdout",
     "output_type": "stream",
     "text": [
      "Collecting transformers\n",
      "  Using cached transformers-4.27.4-py3-none-any.whl (6.8 MB)\n",
      "Requirement already satisfied: tokenizers!=0.11.3,<0.14,>=0.11.1 in c:\\users\\cs\\anaconda3\\lib\\site-packages (from transformers) (0.13.2)\n",
      "Requirement already satisfied: requests in c:\\users\\cs\\anaconda3\\lib\\site-packages (from transformers) (2.28.1)\n",
      "Requirement already satisfied: packaging>=20.0 in c:\\users\\cs\\anaconda3\\lib\\site-packages (from transformers) (21.3)\n",
      "Requirement already satisfied: pyyaml>=5.1 in c:\\users\\cs\\anaconda3\\lib\\site-packages (from transformers) (6.0)\n",
      "Requirement already satisfied: tqdm>=4.27 in c:\\users\\cs\\anaconda3\\lib\\site-packages (from transformers) (4.64.1)\n",
      "Requirement already satisfied: filelock in c:\\users\\cs\\anaconda3\\lib\\site-packages (from transformers) (3.6.0)\n",
      "Requirement already satisfied: huggingface-hub<1.0,>=0.11.0 in c:\\users\\cs\\anaconda3\\lib\\site-packages (from transformers) (0.13.3)\n",
      "Requirement already satisfied: regex!=2019.12.17 in c:\\users\\cs\\anaconda3\\lib\\site-packages (from transformers) (2022.7.9)\n",
      "Requirement already satisfied: numpy>=1.17 in c:\\users\\cs\\anaconda3\\lib\\site-packages (from transformers) (1.21.5)\n",
      "Requirement already satisfied: typing-extensions>=3.7.4.3 in c:\\users\\cs\\anaconda3\\lib\\site-packages (from huggingface-hub<1.0,>=0.11.0->transformers) (4.3.0)\n",
      "Requirement already satisfied: pyparsing!=3.0.5,>=2.0.2 in c:\\users\\cs\\anaconda3\\lib\\site-packages (from packaging>=20.0->transformers) (3.0.9)\n",
      "Requirement already satisfied: colorama in c:\\users\\cs\\anaconda3\\lib\\site-packages (from tqdm>=4.27->transformers) (0.4.6)\n",
      "Requirement already satisfied: urllib3<1.27,>=1.21.1 in c:\\users\\cs\\anaconda3\\lib\\site-packages (from requests->transformers) (1.26.11)\n",
      "Requirement already satisfied: idna<4,>=2.5 in c:\\users\\cs\\anaconda3\\lib\\site-packages (from requests->transformers) (3.3)\n",
      "Requirement already satisfied: certifi>=2017.4.17 in c:\\users\\cs\\anaconda3\\lib\\site-packages (from requests->transformers) (2022.9.14)\n",
      "Requirement already satisfied: charset-normalizer<3,>=2 in c:\\users\\cs\\anaconda3\\lib\\site-packages (from requests->transformers) (2.0.4)\n",
      "Installing collected packages: transformers\n",
      "Successfully installed transformers-4.27.4\n"
     ]
    }
   ],
   "source": [
    "!pip install transformers"
   ]
  },
  {
   "cell_type": "code",
   "execution_count": 2,
   "id": "fyubmTn5w4PQ",
   "metadata": {
    "colab": {
     "base_uri": "https://localhost:8080/"
    },
    "id": "fyubmTn5w4PQ",
    "outputId": "ff2434c7-c59e-4e80-ff2d-cc16d3071fb1"
   },
   "outputs": [
    {
     "name": "stdout",
     "output_type": "stream",
     "text": [
      "Looking in indexes: https://pypi.org/simple, https://us-python.pkg.dev/colab-wheels/public/simple/\n",
      "Requirement already satisfied: emot in /usr/local/lib/python3.9/dist-packages (3.1)\n",
      "Looking in indexes: https://pypi.org/simple, https://us-python.pkg.dev/colab-wheels/public/simple/\n",
      "Requirement already satisfied: emoji in /usr/local/lib/python3.9/dist-packages (2.2.0)\n",
      "Looking in indexes: https://pypi.org/simple, https://us-python.pkg.dev/colab-wheels/public/simple/\n",
      "Requirement already satisfied: nltk in /usr/local/lib/python3.9/dist-packages (3.8.1)\n",
      "Requirement already satisfied: joblib in /usr/local/lib/python3.9/dist-packages (from nltk) (1.1.1)\n",
      "Requirement already satisfied: tqdm in /usr/local/lib/python3.9/dist-packages (from nltk) (4.65.0)\n",
      "Requirement already satisfied: regex>=2021.8.3 in /usr/local/lib/python3.9/dist-packages (from nltk) (2022.10.31)\n",
      "Requirement already satisfied: click in /usr/local/lib/python3.9/dist-packages (from nltk) (8.1.3)\n",
      "Looking in indexes: https://pypi.org/simple, https://us-python.pkg.dev/colab-wheels/public/simple/\n",
      "Requirement already satisfied: spacy in /usr/local/lib/python3.9/dist-packages (3.5.1)\n",
      "Requirement already satisfied: thinc<8.2.0,>=8.1.8 in /usr/local/lib/python3.9/dist-packages (from spacy) (8.1.9)\n",
      "Requirement already satisfied: spacy-loggers<2.0.0,>=1.0.0 in /usr/local/lib/python3.9/dist-packages (from spacy) (1.0.4)\n",
      "Requirement already satisfied: pathy>=0.10.0 in /usr/local/lib/python3.9/dist-packages (from spacy) (0.10.1)\n",
      "Requirement already satisfied: tqdm<5.0.0,>=4.38.0 in /usr/local/lib/python3.9/dist-packages (from spacy) (4.65.0)\n",
      "Requirement already satisfied: requests<3.0.0,>=2.13.0 in /usr/local/lib/python3.9/dist-packages (from spacy) (2.27.1)\n",
      "Requirement already satisfied: wasabi<1.2.0,>=0.9.1 in /usr/local/lib/python3.9/dist-packages (from spacy) (1.1.1)\n",
      "Requirement already satisfied: numpy>=1.15.0 in /usr/local/lib/python3.9/dist-packages (from spacy) (1.22.4)\n",
      "Requirement already satisfied: langcodes<4.0.0,>=3.2.0 in /usr/local/lib/python3.9/dist-packages (from spacy) (3.3.0)\n",
      "Requirement already satisfied: catalogue<2.1.0,>=2.0.6 in /usr/local/lib/python3.9/dist-packages (from spacy) (2.0.8)\n",
      "Requirement already satisfied: murmurhash<1.1.0,>=0.28.0 in /usr/local/lib/python3.9/dist-packages (from spacy) (1.0.9)\n",
      "Requirement already satisfied: srsly<3.0.0,>=2.4.3 in /usr/local/lib/python3.9/dist-packages (from spacy) (2.4.6)\n",
      "Requirement already satisfied: preshed<3.1.0,>=3.0.2 in /usr/local/lib/python3.9/dist-packages (from spacy) (3.0.8)\n",
      "Requirement already satisfied: smart-open<7.0.0,>=5.2.1 in /usr/local/lib/python3.9/dist-packages (from spacy) (6.3.0)\n",
      "Requirement already satisfied: typer<0.8.0,>=0.3.0 in /usr/local/lib/python3.9/dist-packages (from spacy) (0.7.0)\n",
      "Requirement already satisfied: setuptools in /usr/local/lib/python3.9/dist-packages (from spacy) (67.6.1)\n",
      "Requirement already satisfied: spacy-legacy<3.1.0,>=3.0.11 in /usr/local/lib/python3.9/dist-packages (from spacy) (3.0.12)\n",
      "Requirement already satisfied: cymem<2.1.0,>=2.0.2 in /usr/local/lib/python3.9/dist-packages (from spacy) (2.0.7)\n",
      "Requirement already satisfied: jinja2 in /usr/local/lib/python3.9/dist-packages (from spacy) (3.1.2)\n",
      "Requirement already satisfied: pydantic!=1.8,!=1.8.1,<1.11.0,>=1.7.4 in /usr/local/lib/python3.9/dist-packages (from spacy) (1.10.7)\n",
      "Requirement already satisfied: packaging>=20.0 in /usr/local/lib/python3.9/dist-packages (from spacy) (23.0)\n",
      "Requirement already satisfied: typing-extensions>=4.2.0 in /usr/local/lib/python3.9/dist-packages (from pydantic!=1.8,!=1.8.1,<1.11.0,>=1.7.4->spacy) (4.5.0)\n",
      "Requirement already satisfied: idna<4,>=2.5 in /usr/local/lib/python3.9/dist-packages (from requests<3.0.0,>=2.13.0->spacy) (3.4)\n",
      "Requirement already satisfied: certifi>=2017.4.17 in /usr/local/lib/python3.9/dist-packages (from requests<3.0.0,>=2.13.0->spacy) (2022.12.7)\n",
      "Requirement already satisfied: urllib3<1.27,>=1.21.1 in /usr/local/lib/python3.9/dist-packages (from requests<3.0.0,>=2.13.0->spacy) (1.26.15)\n",
      "Requirement already satisfied: charset-normalizer~=2.0.0 in /usr/local/lib/python3.9/dist-packages (from requests<3.0.0,>=2.13.0->spacy) (2.0.12)\n",
      "Requirement already satisfied: confection<1.0.0,>=0.0.1 in /usr/local/lib/python3.9/dist-packages (from thinc<8.2.0,>=8.1.8->spacy) (0.0.4)\n",
      "Requirement already satisfied: blis<0.8.0,>=0.7.8 in /usr/local/lib/python3.9/dist-packages (from thinc<8.2.0,>=8.1.8->spacy) (0.7.9)\n",
      "Requirement already satisfied: click<9.0.0,>=7.1.1 in /usr/local/lib/python3.9/dist-packages (from typer<0.8.0,>=0.3.0->spacy) (8.1.3)\n",
      "Requirement already satisfied: MarkupSafe>=2.0 in /usr/local/lib/python3.9/dist-packages (from jinja2->spacy) (2.1.2)\n",
      "Looking in indexes: https://pypi.org/simple, https://us-python.pkg.dev/colab-wheels/public/simple/\n",
      "Requirement already satisfied: sentencepiece in /usr/local/lib/python3.9/dist-packages (0.1.97)\n"
     ]
    }
   ],
   "source": [
    "!pip install emot \n",
    "!pip install emoji \n",
    "!pip install nltk \n",
    "!pip install -U spacy \n",
    "!pip install sentencepiece"
   ]
  },
  {
   "cell_type": "code",
   "execution_count": 5,
   "id": "06561826",
   "metadata": {
    "id": "06561826"
   },
   "outputs": [],
   "source": [
    "def deEmojify(string):\n",
    "    emoji_pattern = re.compile(\"[\"\n",
    "                              u\"\\U0001F600-\\U0001F64F\"  # emoticons\n",
    "                              u\"\\U0001F300-\\U0001F5FF\"  # symbols & pictographs\n",
    "                              u\"\\U0001F680-\\U0001F6FF\"  # transport & map symbols\n",
    "                              u\"\\U0001F1E0-\\U0001F1FF\"  # flags (iOS)\n",
    "                              u\"\\U00002500-\\U00002BEF\"  # chinese char\n",
    "                              u\"\\U00002702-\\U000027B0\"\n",
    "                              u\"\\U00002702-\\U000027B0\"\n",
    "                              u\"\\U000024C2-\\U0001F251\"\n",
    "                              u\"\\U0001f926-\\U0001f937\"\n",
    "                              u\"\\U00010000-\\U0010ffff\"\n",
    "                              u\"\\u2640-\\u2642\"\n",
    "                              u\"\\u2600-\\u2B55\"\n",
    "                              u\"\\u200d\"\n",
    "                              u\"\\u23cf\"\n",
    "                              u\"\\u23e9\"\n",
    "                              u\"\\u231a\"\n",
    "                              u\"\\ufe0f\"  # dingbats\n",
    "                              u\"\\u3030\"\n",
    "                              \"]+\", flags=re.UNICODE)\n",
    "    return emoji_pattern.sub(r'', string)\n",
    "        \n",
    "def preprocess(text):\n",
    "    text = str(text)\n",
    "    text = deEmojify(text) #remove emojis\n",
    "    text = re.sub(r'([\\.\\'\\\"\\/\\-\\_\\--])',' ', text) # remove punctuations , removes @USER / some abbreviatins\n",
    "    to_remove_url = ('http[s]?://(?:[a-zA-Z]|[0-9]|[$-_@.&+]|'\n",
    "      '[!*,]|(?:%[0-9a-fA-F][0-9a-fA-F]))+')\n",
    "    text = re.sub(to_remove_url,'',text)  # remove url patterns\n",
    "    text = re.sub(\" \\d+\", \" \", text)\n",
    "    text = text.replace(\",\",\" \")\n",
    "    text = re.sub(r'(?:^| )\\w(?:$| )', ' ', text).strip()\n",
    "    punctuation='!!\"$%&()*+-/:;<=>?[\\]^_{|}~.'\n",
    "    text = ''.join(ch for ch in text if ch not in set(punctuation))\n",
    "    \n",
    "    tokenizer = ToktokTokenizer()\n",
    "    # convert sentence into token of words\n",
    "    tokens = tokenizer.tokenize(text)\n",
    "    tokens = [token.strip() for token in tokens]\n",
    "    text = ' '.join(ch for ch in tokens)\n",
    "    return text \n",
    "\n",
    "def clean(df):\n",
    "    df['text'] = df['text'].apply(lambda x: preprocess(x))\n"
   ]
  },
  {
   "cell_type": "code",
   "execution_count": 6,
   "id": "64856946",
   "metadata": {
    "colab": {
     "base_uri": "https://localhost:8080/",
     "height": 424
    },
    "id": "64856946",
    "outputId": "ec937dd4-d231-4dba-9d6e-b48ed51c3780"
   },
   "outputs": [],
   "source": [
    "train = pd.read_csv('tamil_train.csv')\n",
    "val = pd.read_csv('tamil_dev.csv')\n",
    "train.drop(['Unnamed: 0'], axis=1, inplace=True)\n",
    "val.drop(['Unnamed: 0'], axis=1, inplace=True)\n",
    "train.dropna()\n",
    "train['label'] = pd.Categorical(train.label)\n",
    "val.dropna()\n",
    "val['label'] = pd.Categorical(val.label)\n",
    "train['text'].apply(str)\n",
    "clean(train)\n",
    "clean(val)"
   ]
  },
  {
   "cell_type": "code",
   "execution_count": 7,
   "id": "858eb00c",
   "metadata": {
    "id": "858eb00c"
   },
   "outputs": [],
   "source": [
    "class tamil_Offensive_Dataset(Dataset):\n",
    "    def __init__(self, encodings, labels, bpe = False):\n",
    "        self.encodings = encodings\n",
    "        self.labels = labels\n",
    "        self.is_bpe_tokenized = bpe\n",
    "\n",
    "    def __getitem__(self, idx):\n",
    "        if not self.is_bpe_tokenized:\n",
    "            item = {key: torch.tensor(val[idx]) for key, val in self.encodings.items()}\n",
    "        else:\n",
    "            item = {\n",
    "                'input_ids': torch.LongTensor(self.encodings[idx].ids),\n",
    "                'attention_mask': torch.LongTensor(self.encodings[idx].attention_mask)\n",
    "            }\n",
    "        item['labels'] = torch.tensor(self.labels[idx])\n",
    "        return item\n",
    "\n",
    "    def __len__(self):\n",
    "        return len(self.labels)"
   ]
  },
  {
   "cell_type": "code",
   "execution_count": 10,
   "id": "a42515e7",
   "metadata": {
    "id": "a42515e7",
    "scrolled": true
   },
   "outputs": [
    {
     "name": "stderr",
     "output_type": "stream",
     "text": [
      "Some weights of the model checkpoint at sberbank-ai/mGPT were not used when initializing GPT2ForSequenceClassification: ['lm_head.weight']\n",
      "- This IS expected if you are initializing GPT2ForSequenceClassification from the checkpoint of a model trained on another task or with another architecture (e.g. initializing a BertForSequenceClassification model from a BertForPreTraining model).\n",
      "- This IS NOT expected if you are initializing GPT2ForSequenceClassification from the checkpoint of a model that you expect to be exactly identical (initializing a BertForSequenceClassification model from a BertForSequenceClassification model).\n",
      "Some weights of GPT2ForSequenceClassification were not initialized from the model checkpoint at sberbank-ai/mGPT and are newly initialized: ['score.weight']\n",
      "You should probably TRAIN this model on a down-stream task to be able to use it for predictions and inference.\n"
     ]
    }
   ],
   "source": [
    "from transformers import GPT2LMHeadModel, GPT2Tokenizer, GPT2ForSequenceClassification\n",
    "tokenizer = GPT2Tokenizer.from_pretrained('sberbank-ai/mGPT')\n",
    "model = GPT2ForSequenceClassification.from_pretrained('sberbank-ai/mGPT',num_labels = 3)\n",
    "model_name = \"sparse_attention_model\""
   ]
  },
  {
   "cell_type": "code",
   "execution_count": 11,
   "id": "4eae317c",
   "metadata": {},
   "outputs": [],
   "source": [
    "tokenizer.padding_side = \"left\"\n",
    "tokenizer.pad_token = tokenizer.eos_token\n",
    "\n",
    "model.resize_token_embeddings(len(tokenizer))\n",
    "model.config.pad_token_id = model.config.eos_token_id"
   ]
  },
  {
   "cell_type": "code",
   "execution_count": 13,
   "id": "ea9da64c",
   "metadata": {
    "colab": {
     "base_uri": "https://localhost:8080/"
    },
    "id": "ea9da64c",
    "outputId": "9494dc07-210e-45c8-9175-5f56abe006c7"
   },
   "outputs": [],
   "source": [
    " # Optimiser\n",
    "from transformers import AdamW\n",
    "optimizer = AdamW(model.parameters(), lr=1e-5)"
   ]
  },
  {
   "cell_type": "code",
   "execution_count": 14,
   "id": "aa6c38b0",
   "metadata": {
    "id": "aa6c38b0"
   },
   "outputs": [],
   "source": [
    "label_mapping = {\n",
    "        'Not_offensive': 0, \n",
    "        'not-Tamil': 1, \n",
    "        'Offensive': 2, \n",
    "    }"
   ]
  },
  {
   "cell_type": "code",
   "execution_count": 15,
   "id": "dee1d72c",
   "metadata": {
    "id": "dee1d72c"
   },
   "outputs": [],
   "source": [
    "# Collecting Text and Labels\n",
    "train_batch_sentences = list(train['text'])\n",
    "train_batch_labels =  [label_mapping[x] for x in train['label']]\n",
    "dev_batch_sentences = list(val['text'])\n",
    "dev_batch_labels =  [label_mapping[x] for x in val['label']]"
   ]
  },
  {
   "cell_type": "code",
   "execution_count": 16,
   "id": "8f7264ac",
   "metadata": {
    "id": "8f7264ac"
   },
   "outputs": [],
   "source": [
    "# Convert to Tensor\n",
    "if 'parameters' in tokenizer.__dict__.keys() and tokenizer.__dict__['_parameters']['model'] == 'ByteLevelBPE':\n",
    "    train_encodings = tokenizer.encode_batch(train_batch_sentences)\n",
    "    dev_encodings = tokenizer.encode_batch(dev_batch_sentences)\n",
    "else:\n",
    "    train_encodings = tokenizer(train_batch_sentences, padding='max_length', truncation=True, max_length=64, return_tensors=\"pt\")\n",
    "    dev_encodings = tokenizer(dev_batch_sentences, padding='max_length', truncation=True, max_length=64, return_tensors=\"pt\")\n",
    "\n",
    "train_labels = torch.tensor(train_batch_labels)\n",
    "dev_labels = torch.tensor(dev_batch_labels)"
   ]
  },
  {
   "cell_type": "code",
   "execution_count": 17,
   "id": "eed38877",
   "metadata": {
    "id": "eed38877"
   },
   "outputs": [],
   "source": [
    "# Defining Datasets\n",
    "train_dataset = tamil_Offensive_Dataset(train_encodings, train_labels, bpe = False)\n",
    "dev_dataset = tamil_Offensive_Dataset(dev_encodings, dev_labels, bpe = False)\n",
    "\n",
    "device = torch.device('cuda') if torch.cuda.is_available() else torch.device('cpu')\n",
    "model.to(device)\n",
    "best_val_f1 = 0\n",
    "count = 0"
   ]
  },
  {
   "cell_type": "code",
   "execution_count": 18,
   "id": "ae1e64fb",
   "metadata": {
    "id": "ae1e64fb"
   },
   "outputs": [],
   "source": [
    "# Alternate Loss Fn\n",
    "# Weighted Manual Loss Function\n",
    "from sklearn.utils import class_weight\n",
    "import torch.nn as nn\n",
    "\n",
    "weights = class_weight.compute_class_weight(class_weight = 'balanced',classes = np.unique(train_batch_labels),y = train_batch_labels)\n",
    "weights = np.exp(weights)/np.sum(np.exp(weights))\n",
    "class_weights = torch.FloatTensor(weights).to(device)\n",
    "loss_function = nn.CrossEntropyLoss(weight=class_weights, reduction='mean')"
   ]
  },
  {
   "cell_type": "code",
   "execution_count": 19,
   "id": "67608566",
   "metadata": {
    "id": "67608566"
   },
   "outputs": [],
   "source": [
    "# Dataloaders\n",
    "train_loader = DataLoader(train_dataset, batch_size=16, shuffle=True)\n",
    "dev_loader = DataLoader(dev_dataset, batch_size=16, shuffle=False)\n",
    "loss_weighted = True"
   ]
  },
  {
   "cell_type": "code",
   "execution_count": null,
   "id": "b830865f",
   "metadata": {
    "colab": {
     "base_uri": "https://localhost:8080/",
     "height": 1000
    },
    "id": "b830865f",
    "outputId": "09893007-d6f2-4f76-c67d-450bda3bda2e"
   },
   "outputs": [
    {
     "name": "stdout",
     "output_type": "stream",
     "text": [
      "==========================================================\n",
      "Epoch 0\n",
      "Train\n"
     ]
    },
    {
     "name": "stderr",
     "output_type": "stream",
     "text": [
      "  0%|                                                                                         | 0/2197 [00:00<?, ?it/s]C:\\Users\\cs\\AppData\\Local\\Temp\\ipykernel_17140\\2961227109.py:9: UserWarning: To copy construct from a tensor, it is recommended to use sourceTensor.clone().detach() or sourceTensor.clone().detach().requires_grad_(True), rather than torch.tensor(sourceTensor).\n",
      "  item = {key: torch.tensor(val[idx]) for key, val in self.encodings.items()}\n",
      "C:\\Users\\cs\\AppData\\Local\\Temp\\ipykernel_17140\\2961227109.py:15: UserWarning: To copy construct from a tensor, it is recommended to use sourceTensor.clone().detach() or sourceTensor.clone().detach().requires_grad_(True), rather than torch.tensor(sourceTensor).\n",
      "  item['labels'] = torch.tensor(self.labels[idx])\n",
      "100%|███████████████████████████████████████████████████████████████████████████| 2197/2197 [17:44:43<00:00, 29.08s/it]\n"
     ]
    },
    {
     "name": "stdout",
     "output_type": "stream",
     "text": [
      "Dev\n"
     ]
    },
    {
     "name": "stderr",
     "output_type": "stream",
     "text": [
      "100%|████████████████████████████████████████████████████████████████████████████████| 275/275 [36:39<00:00,  8.00s/it]\n"
     ]
    },
    {
     "name": "stdout",
     "output_type": "stream",
     "text": [
      "               precision    recall  f1-score   support\n",
      "\n",
      "Not_offensive       0.84      0.52      0.64     25425\n",
      "    not-Tamil       0.12      0.83      0.21      1454\n",
      "    Offensive       0.41      0.46      0.44      8260\n",
      "\n",
      "     accuracy                           0.52     35139\n",
      "    macro avg       0.46      0.60      0.43     35139\n",
      " weighted avg       0.71      0.52      0.57     35139\n",
      "\n",
      "               precision    recall  f1-score   support\n",
      "\n",
      "Not_offensive       0.85      0.78      0.81      3193\n",
      "    not-Tamil       0.44      0.83      0.57       172\n",
      "    Offensive       0.49      0.54      0.52      1023\n",
      "\n",
      "     accuracy                           0.73      4388\n",
      "    macro avg       0.59      0.72      0.63      4388\n",
      " weighted avg       0.75      0.73      0.73      4388\n",
      "\n",
      "Epoch 0, Train Loss = 0.779722643005343, Val Loss = 0.6495709014887159, Val F1 = 0.6346326604433172, Best Val f1 = 0.6346326604433172, stagnant = 0\n",
      "==========================================================\n",
      "Epoch 1\n",
      "Train\n"
     ]
    },
    {
     "name": "stderr",
     "output_type": "stream",
     "text": [
      "  0%|                                                                                         | 0/2197 [00:00<?, ?it/s]C:\\Users\\cs\\AppData\\Local\\Temp\\ipykernel_17140\\2961227109.py:9: UserWarning: To copy construct from a tensor, it is recommended to use sourceTensor.clone().detach() or sourceTensor.clone().detach().requires_grad_(True), rather than torch.tensor(sourceTensor).\n",
      "  item = {key: torch.tensor(val[idx]) for key, val in self.encodings.items()}\n",
      "C:\\Users\\cs\\AppData\\Local\\Temp\\ipykernel_17140\\2961227109.py:15: UserWarning: To copy construct from a tensor, it is recommended to use sourceTensor.clone().detach() or sourceTensor.clone().detach().requires_grad_(True), rather than torch.tensor(sourceTensor).\n",
      "  item['labels'] = torch.tensor(self.labels[idx])\n",
      "100%|███████████████████████████████████████████████████████████████████████████| 2197/2197 [18:16:51<00:00, 29.95s/it]\n"
     ]
    },
    {
     "name": "stdout",
     "output_type": "stream",
     "text": [
      "Dev\n"
     ]
    },
    {
     "name": "stderr",
     "output_type": "stream",
     "text": [
      "100%|████████████████████████████████████████████████████████████████████████████████| 275/275 [41:57<00:00,  9.16s/it]\n"
     ]
    },
    {
     "name": "stdout",
     "output_type": "stream",
     "text": [
      "               precision    recall  f1-score   support\n",
      "\n",
      "Not_offensive       0.88      0.64      0.74     25425\n",
      "    not-Tamil       0.24      0.90      0.37      1454\n",
      "    Offensive       0.46      0.61      0.53      8260\n",
      "\n",
      "     accuracy                           0.65     35139\n",
      "    macro avg       0.53      0.72      0.55     35139\n",
      " weighted avg       0.75      0.65      0.68     35139\n",
      "\n",
      "               precision    recall  f1-score   support\n",
      "\n",
      "Not_offensive       0.89      0.68      0.77      3193\n",
      "    not-Tamil       0.44      0.87      0.58       172\n",
      "    Offensive       0.45      0.72      0.56      1023\n",
      "\n",
      "     accuracy                           0.69      4388\n",
      "    macro avg       0.59      0.75      0.64      4388\n",
      " weighted avg       0.77      0.69      0.71      4388\n",
      "\n",
      "Epoch 1, Train Loss = 0.5620460025589948, Val Loss = 0.5822136028682471, Val F1 = 0.6350796309420698, Best Val f1 = 0.6350796309420698, stagnant = 0\n",
      "==========================================================\n",
      "Epoch 2\n",
      "Train\n"
     ]
    },
    {
     "name": "stderr",
     "output_type": "stream",
     "text": [
      "  0%|                                                                                         | 0/2197 [00:00<?, ?it/s]C:\\Users\\cs\\AppData\\Local\\Temp\\ipykernel_17140\\2961227109.py:9: UserWarning: To copy construct from a tensor, it is recommended to use sourceTensor.clone().detach() or sourceTensor.clone().detach().requires_grad_(True), rather than torch.tensor(sourceTensor).\n",
      "  item = {key: torch.tensor(val[idx]) for key, val in self.encodings.items()}\n",
      "C:\\Users\\cs\\AppData\\Local\\Temp\\ipykernel_17140\\2961227109.py:15: UserWarning: To copy construct from a tensor, it is recommended to use sourceTensor.clone().detach() or sourceTensor.clone().detach().requires_grad_(True), rather than torch.tensor(sourceTensor).\n",
      "  item['labels'] = torch.tensor(self.labels[idx])\n",
      "100%|███████████████████████████████████████████████████████████████████████████| 2197/2197 [18:19:28<00:00, 30.03s/it]\n"
     ]
    },
    {
     "name": "stdout",
     "output_type": "stream",
     "text": [
      "Dev\n"
     ]
    },
    {
     "name": "stderr",
     "output_type": "stream",
     "text": [
      "100%|████████████████████████████████████████████████████████████████████████████████| 275/275 [40:55<00:00,  8.93s/it]\n"
     ]
    },
    {
     "name": "stdout",
     "output_type": "stream",
     "text": [
      "               precision    recall  f1-score   support\n",
      "\n",
      "Not_offensive       0.89      0.69      0.78     25425\n",
      "    not-Tamil       0.32      0.93      0.47      1454\n",
      "    Offensive       0.48      0.65      0.56      8260\n",
      "\n",
      "     accuracy                           0.69     35139\n",
      "    macro avg       0.56      0.76      0.60     35139\n",
      " weighted avg       0.77      0.69      0.71     35139\n",
      "\n",
      "               precision    recall  f1-score   support\n",
      "\n",
      "Not_offensive       0.89      0.73      0.80      3193\n",
      "    not-Tamil       0.40      0.89      0.55       172\n",
      "    Offensive       0.50      0.69      0.58      1023\n",
      "\n",
      "     accuracy                           0.72      4388\n",
      "    macro avg       0.60      0.77      0.64      4388\n",
      " weighted avg       0.78      0.72      0.74      4388\n",
      "\n",
      "Epoch 2, Train Loss = 0.4581421369708557, Val Loss = 0.5233237918144601, Val F1 = 0.6433796277862514, Best Val f1 = 0.6433796277862514, stagnant = 0\n",
      "==========================================================\n",
      "Epoch 3\n",
      "Train\n"
     ]
    },
    {
     "name": "stderr",
     "output_type": "stream",
     "text": [
      "  0%|                                                                                         | 0/2197 [00:00<?, ?it/s]C:\\Users\\cs\\AppData\\Local\\Temp\\ipykernel_17140\\2961227109.py:9: UserWarning: To copy construct from a tensor, it is recommended to use sourceTensor.clone().detach() or sourceTensor.clone().detach().requires_grad_(True), rather than torch.tensor(sourceTensor).\n",
      "  item = {key: torch.tensor(val[idx]) for key, val in self.encodings.items()}\n",
      "C:\\Users\\cs\\AppData\\Local\\Temp\\ipykernel_17140\\2961227109.py:15: UserWarning: To copy construct from a tensor, it is recommended to use sourceTensor.clone().detach() or sourceTensor.clone().detach().requires_grad_(True), rather than torch.tensor(sourceTensor).\n",
      "  item['labels'] = torch.tensor(self.labels[idx])\n",
      " 77%|████████████████████████████████████████████████████████▎                | 1696/2197 [14:07:19<3:38:37, 26.18s/it]"
     ]
    }
   ],
   "source": [
    "for epoch in range(30):\n",
    "    train_preds = []\n",
    "    train_labels = []\n",
    "    total_train_loss = 0\n",
    "    model.train()\n",
    "    print(\"==========================================================\")\n",
    "    print(\"Epoch {}\".format(epoch))\n",
    "    print(\"Train\")\n",
    "    for batch in tqdm(train_loader):\n",
    "        optimizer.zero_grad()\n",
    "        input_ids = batch['input_ids'].to(device)\n",
    "        attention_mask = batch['attention_mask'].to(device)\n",
    "        labels = batch['labels'].to(device)\n",
    "        outputs = model(input_ids, attention_mask=attention_mask, labels=labels)\n",
    "        if loss_weighted:\n",
    "            loss = loss_function(outputs[1], labels)\n",
    "        else:\n",
    "            loss = outputs[0]\n",
    "        loss.backward()\n",
    "        optimizer.step()\n",
    "\n",
    "        for logits in outputs[1].detach().cpu().numpy():\n",
    "            train_preds.append(np.argmax(logits))\n",
    "        for logits in labels.cpu().numpy():\n",
    "            train_labels.append(logits)\n",
    "        total_train_loss += loss.item()/len(train_loader)\n",
    "\n",
    "    print(\"Dev\")\n",
    "    dev_preds = []\n",
    "    model.eval()\n",
    "    total_val_loss = 0\n",
    "    with torch.set_grad_enabled(False):\n",
    "        for batch in tqdm(dev_loader):\n",
    "            input_ids = batch['input_ids'].to(device)\n",
    "            attention_mask = batch['attention_mask'].to(device)\n",
    "            labels = batch['labels'].to(device)\n",
    "            outputs = model(input_ids, attention_mask=attention_mask, labels=labels)\n",
    "            if loss_weighted:\n",
    "                loss = loss_function(outputs[1], labels)\n",
    "            else:\n",
    "                loss = outputs[0]\n",
    "            total_val_loss += loss.item()/len(dev_loader)\n",
    "\n",
    "            for logits in outputs[1].cpu().numpy():\n",
    "                dev_preds.append(np.argmax(logits))\n",
    "\n",
    "    y_true = dev_batch_labels\n",
    "    y_pred = dev_preds\n",
    "    target_names = label_mapping.keys()\n",
    "    train_report = classification_report(train_labels, train_preds, target_names=target_names)\n",
    "    report = classification_report(y_true, y_pred, target_names=target_names)\n",
    "    val_f1 = f1_score(y_true, y_pred, average='macro')\n",
    "\n",
    "    if val_f1 > best_val_f1:\n",
    "        PATH = 'finetuned_models/' + model_name + '.pth'\n",
    "        torch.save(model.state_dict(), PATH)\n",
    "        model.save_pretrained(os.path.join('finetuned_berts/', model_name))\n",
    "        best_val_f1 = val_f1\n",
    "        count = 0\n",
    "    else:\n",
    "        count += 1\n",
    "\n",
    "    print(train_report) \n",
    "    print(report)\n",
    "    print(\"Epoch {}, Train Loss = {}, Val Loss = {}, Val F1 = {}, Best Val f1 = {}, stagnant = {}\".format(epoch, total_train_loss, total_val_loss, val_f1, best_val_f1, count))\n",
    "    if count == 5:\n",
    "        print(\"No increase for 5 epochs, Stopping ...\")\n",
    "        break"
   ]
  },
  {
   "cell_type": "code",
   "execution_count": null,
   "id": "50922719",
   "metadata": {},
   "outputs": [],
   "source": []
  }
 ],
 "metadata": {
  "accelerator": "GPU",
  "colab": {
   "provenance": []
  },
  "gpuClass": "standard",
  "kernelspec": {
   "display_name": "Python 3 (ipykernel)",
   "language": "python",
   "name": "python3"
  },
  "language_info": {
   "codemirror_mode": {
    "name": "ipython",
    "version": 3
   },
   "file_extension": ".py",
   "mimetype": "text/x-python",
   "name": "python",
   "nbconvert_exporter": "python",
   "pygments_lexer": "ipython3",
   "version": "3.9.7"
  }
 },
 "nbformat": 4,
 "nbformat_minor": 5
}
