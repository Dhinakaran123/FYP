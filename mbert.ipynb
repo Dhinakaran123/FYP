{
 "cells": [
  {
   "cell_type": "code",
   "execution_count": 1,
   "id": "ea8979e9",
   "metadata": {},
   "outputs": [
    {
     "name": "stderr",
     "output_type": "stream",
     "text": [
      "[nltk_data] Downloading package words to\n",
      "[nltk_data]     C:\\Users\\Admin\\AppData\\Roaming\\nltk_data...\n",
      "[nltk_data]   Package words is already up-to-date!\n",
      "[nltk_data] Downloading package punkt to\n",
      "[nltk_data]     C:\\Users\\Admin\\AppData\\Roaming\\nltk_data...\n",
      "[nltk_data]   Package punkt is already up-to-date!\n"
     ]
    }
   ],
   "source": [
    "import pandas as pd\n",
    "import numpy as np\n",
    "import torch\n",
    "import torch.nn as nn\n",
    "import torch.nn.functional as F\n",
    "from torch.utils.data import DataLoader\n",
    "from tqdm import tqdm\n",
    "import os\n",
    "from sklearn.metrics import classification_report, f1_score\n",
    "from torch.utils.data import Dataset\n",
    "import collections\n",
    "import emoji\n",
    "import re\n",
    "from emot.emo_unicode import EMOTICONS_EMO\n",
    "import nltk\n",
    "nltk.download('words')\n",
    "import nltk, string, re, spacy,unicodedata, random\n",
    "nltk.download('punkt')\n",
    "from nltk.corpus import stopwords\n",
    "from nltk.tokenize import word_tokenize\n",
    "from nltk.tokenize import ToktokTokenizer"
   ]
  },
  {
   "cell_type": "code",
   "execution_count": 2,
   "id": "06561826",
   "metadata": {},
   "outputs": [],
   "source": [
    "def deEmojify(string):\n",
    "    emoji_pattern = re.compile(\"[\"\n",
    "                              u\"\\U0001F600-\\U0001F64F\"  # emoticons\n",
    "                              u\"\\U0001F300-\\U0001F5FF\"  # symbols & pictographs\n",
    "                              u\"\\U0001F680-\\U0001F6FF\"  # transport & map symbols\n",
    "                              u\"\\U0001F1E0-\\U0001F1FF\"  # flags (iOS)\n",
    "                              u\"\\U00002500-\\U00002BEF\"  # chinese char\n",
    "                              u\"\\U00002702-\\U000027B0\"\n",
    "                              u\"\\U00002702-\\U000027B0\"\n",
    "                              u\"\\U000024C2-\\U0001F251\"\n",
    "                              u\"\\U0001f926-\\U0001f937\"\n",
    "                              u\"\\U00010000-\\U0010ffff\"\n",
    "                              u\"\\u2640-\\u2642\"\n",
    "                              u\"\\u2600-\\u2B55\"\n",
    "                              u\"\\u200d\"\n",
    "                              u\"\\u23cf\"\n",
    "                              u\"\\u23e9\"\n",
    "                              u\"\\u231a\"\n",
    "                              u\"\\ufe0f\"  # dingbats\n",
    "                              u\"\\u3030\"\n",
    "                              \"]+\", flags=re.UNICODE)\n",
    "    return emoji_pattern.sub(r'', string)\n",
    "        \n",
    "def preprocess(text):\n",
    "    text = str(text)\n",
    "    text = deEmojify(text) #remove emojis\n",
    "    text = re.sub(r'([\\.\\'\\\"\\/\\-\\_\\--])',' ', text) # remove punctuations , removes @USER / some abbreviatins\n",
    "    to_remove_url = ('http[s]?://(?:[a-zA-Z]|[0-9]|[$-_@.&+]|'\n",
    "      '[!*,]|(?:%[0-9a-fA-F][0-9a-fA-F]))+')\n",
    "    text = re.sub(to_remove_url,'',text)  # remove url patterns\n",
    "    text = re.sub(\" \\d+\", \" \", text)\n",
    "    text = text.replace(\",\",\" \")\n",
    "    text = re.sub(r'(?:^| )\\w(?:$| )', ' ', text).strip()\n",
    "    punctuation='!!\"$%&()*+-/:;<=>?[\\]^_{|}~.'\n",
    "    text = ''.join(ch for ch in text if ch not in set(punctuation))\n",
    "    \n",
    "    tokenizer = ToktokTokenizer()\n",
    "    # convert sentence into token of words\n",
    "    tokens = tokenizer.tokenize(text)\n",
    "    tokens = [token.strip() for token in tokens]\n",
    "    text = ' '.join(ch for ch in tokens)\n",
    "    return text \n",
    "\n",
    "def clean(df):\n",
    "    df['text'] = df['text'].apply(lambda x: preprocess(x))\n"
   ]
  },
  {
   "cell_type": "code",
   "execution_count": 2,
   "id": "64856946",
   "metadata": {},
   "outputs": [
    {
     "data": {
      "text/html": [
       "<div>\n",
       "<style scoped>\n",
       "    .dataframe tbody tr th:only-of-type {\n",
       "        vertical-align: middle;\n",
       "    }\n",
       "\n",
       "    .dataframe tbody tr th {\n",
       "        vertical-align: top;\n",
       "    }\n",
       "\n",
       "    .dataframe thead th {\n",
       "        text-align: right;\n",
       "    }\n",
       "</style>\n",
       "<table border=\"1\" class=\"dataframe\">\n",
       "  <thead>\n",
       "    <tr style=\"text-align: right;\">\n",
       "      <th></th>\n",
       "      <th>text</th>\n",
       "      <th>label</th>\n",
       "    </tr>\n",
       "  </thead>\n",
       "  <tbody>\n",
       "    <tr>\n",
       "      <th>0</th>\n",
       "      <td>மோவி வேற லேவில் லா எரிகா பொகுது</td>\n",
       "      <td>Not_offensive</td>\n",
       "    </tr>\n",
       "    <tr>\n",
       "      <th>1</th>\n",
       "      <td>லோவ் அஜித் குமார் விவேகம் மோவி இங்கி மேஜி பட் ...</td>\n",
       "      <td>not-Tamil</td>\n",
       "    </tr>\n",
       "    <tr>\n",
       "      <th>2</th>\n",
       "      <td>படம் நல்ல காமெடி படாம இருகும் போலை</td>\n",
       "      <td>Not_offensive</td>\n",
       "    </tr>\n",
       "    <tr>\n",
       "      <th>3</th>\n",
       "      <td>கார்த்திக் சுப்பராஜ் அன்னி இந்த படம் வெற்றி அட...</td>\n",
       "      <td>Not_offensive</td>\n",
       "    </tr>\n",
       "    <tr>\n",
       "      <th>4</th>\n",
       "      <td>கவுண்டர் தேவர் சார்பாக வெற்றி பெற வாழ்த்துக்கள்</td>\n",
       "      <td>Not_offensive</td>\n",
       "    </tr>\n",
       "    <tr>\n",
       "      <th>...</th>\n",
       "      <td>...</td>\n",
       "      <td>...</td>\n",
       "    </tr>\n",
       "    <tr>\n",
       "      <th>35134</th>\n",
       "      <td>டிரெண்டிங் நம்பர் #2 இதுக்கு நம்மலாம் காரணம்னு...</td>\n",
       "      <td>Not_offensive</td>\n",
       "    </tr>\n",
       "    <tr>\n",
       "      <th>35135</th>\n",
       "      <td>மோவி ஸ்கிரிப்ட் சூப்பர் அதுவும் ஹிப் ஹாப் தமிழ...</td>\n",
       "      <td>Not_offensive</td>\n",
       "    </tr>\n",
       "    <tr>\n",
       "      <th>35136</th>\n",
       "      <td>ஜஸ்ட் லிக்ஸ் போர் லிக்ஸ்</td>\n",
       "      <td>Not_offensive</td>\n",
       "    </tr>\n",
       "    <tr>\n",
       "      <th>35137</th>\n",
       "      <td>ஆலோ லே லோ கண்டா லே லோ</td>\n",
       "      <td>not-Tamil</td>\n",
       "    </tr>\n",
       "    <tr>\n",
       "      <th>35138</th>\n",
       "      <td>நாமக்கல் மாவட்டம் வன்னியர் சார்பாக திரௌபதி படம...</td>\n",
       "      <td>Not_offensive</td>\n",
       "    </tr>\n",
       "  </tbody>\n",
       "</table>\n",
       "<p>35139 rows × 2 columns</p>\n",
       "</div>"
      ],
      "text/plain": [
       "                                                    text          label\n",
       "0                        மோவி வேற லேவில் லா எரிகா பொகுது  Not_offensive\n",
       "1      லோவ் அஜித் குமார் விவேகம் மோவி இங்கி மேஜி பட் ...      not-Tamil\n",
       "2                     படம் நல்ல காமெடி படாம இருகும் போலை  Not_offensive\n",
       "3      கார்த்திக் சுப்பராஜ் அன்னி இந்த படம் வெற்றி அட...  Not_offensive\n",
       "4        கவுண்டர் தேவர் சார்பாக வெற்றி பெற வாழ்த்துக்கள்  Not_offensive\n",
       "...                                                  ...            ...\n",
       "35134  டிரெண்டிங் நம்பர் #2 இதுக்கு நம்மலாம் காரணம்னு...  Not_offensive\n",
       "35135  மோவி ஸ்கிரிப்ட் சூப்பர் அதுவும் ஹிப் ஹாப் தமிழ...  Not_offensive\n",
       "35136                           ஜஸ்ட் லிக்ஸ் போர் லிக்ஸ்  Not_offensive\n",
       "35137                              ஆலோ லே லோ கண்டா லே லோ      not-Tamil\n",
       "35138  நாமக்கல் மாவட்டம் வன்னியர் சார்பாக திரௌபதி படம...  Not_offensive\n",
       "\n",
       "[35139 rows x 2 columns]"
      ]
     },
     "execution_count": 2,
     "metadata": {},
     "output_type": "execute_result"
    }
   ],
   "source": [
    "train = pd.read_csv('tamil_train.csv')\n",
    "val = pd.read_csv('tamil_dev.csv')\n",
    "train.drop(['Unnamed: 0'], axis=1, inplace=True)\n",
    "val.drop(['Unnamed: 0'], axis=1, inplace=True)\n",
    "train.dropna()\n",
    "train['label'] = pd.Categorical(train.label)\n",
    "val.dropna()\n",
    "val['label'] = pd.Categorical(val.label)\n",
    "train['text'].apply(str)\n",
    "clean(train)\n",
    "clean(val)\n",
    "train"
   ]
  },
  {
   "cell_type": "code",
   "execution_count": 3,
   "id": "858eb00c",
   "metadata": {},
   "outputs": [],
   "source": [
    "class tamil_Offensive_Dataset(Dataset):\n",
    "    def __init__(self, encodings, labels, bpe = False):\n",
    "        self.encodings = encodings\n",
    "        self.labels = labels\n",
    "        self.is_bpe_tokenized = bpe\n",
    "\n",
    "    def __getitem__(self, idx):\n",
    "        if not self.is_bpe_tokenized:\n",
    "            item = {key: torch.tensor(val[idx]) for key, val in self.encodings.items()}\n",
    "        else:\n",
    "            item = {\n",
    "                'input_ids': torch.LongTensor(self.encodings[idx].ids),\n",
    "                'attention_mask': torch.LongTensor(self.encodings[idx].attention_mask)\n",
    "            }\n",
    "        item['labels'] = torch.tensor(self.labels[idx])\n",
    "        return item\n",
    "\n",
    "    def __len__(self):\n",
    "        return len(self.labels)"
   ]
  },
  {
   "cell_type": "code",
   "execution_count": 4,
   "id": "a42515e7",
   "metadata": {},
   "outputs": [
    {
     "name": "stderr",
     "output_type": "stream",
     "text": [
      "Some weights of the model checkpoint at bert-base-multilingual-cased were not used when initializing BertForSequenceClassification: ['cls.seq_relationship.bias', 'cls.predictions.decoder.weight', 'cls.predictions.transform.dense.weight', 'cls.predictions.bias', 'cls.predictions.transform.LayerNorm.weight', 'cls.predictions.transform.LayerNorm.bias', 'cls.predictions.transform.dense.bias', 'cls.seq_relationship.weight']\n",
      "- This IS expected if you are initializing BertForSequenceClassification from the checkpoint of a model trained on another task or with another architecture (e.g. initializing a BertForSequenceClassification model from a BertForPreTraining model).\n",
      "- This IS NOT expected if you are initializing BertForSequenceClassification from the checkpoint of a model that you expect to be exactly identical (initializing a BertForSequenceClassification model from a BertForSequenceClassification model).\n",
      "Some weights of BertForSequenceClassification were not initialized from the model checkpoint at bert-base-multilingual-cased and are newly initialized: ['classifier.bias', 'classifier.weight']\n",
      "You should probably TRAIN this model on a down-stream task to be able to use it for predictions and inference.\n"
     ]
    }
   ],
   "source": [
    "from transformers import BertTokenizer, BertForSequenceClassification\n",
    "tokenizer = BertTokenizer.from_pretrained('bert-base-multilingual-cased')\n",
    "model = BertForSequenceClassification.from_pretrained('bert-base-multilingual-cased', num_labels=3)\n",
    "model_name = 'Mbert_base_cased_tamil_weighted'"
   ]
  },
  {
   "cell_type": "code",
   "execution_count": 5,
   "id": "ea9da64c",
   "metadata": {},
   "outputs": [
    {
     "name": "stderr",
     "output_type": "stream",
     "text": [
      "C:\\Users\\Admin\\anaconda3\\lib\\site-packages\\transformers\\optimization.py:306: FutureWarning: This implementation of AdamW is deprecated and will be removed in a future version. Use the PyTorch implementation torch.optim.AdamW instead, or set `no_deprecation_warning=True` to disable this warning\n",
      "  warnings.warn(\n"
     ]
    }
   ],
   "source": [
    " # Optimiser\n",
    "from transformers import AdamW\n",
    "optimizer = AdamW(model.parameters(), lr=1e-5)"
   ]
  },
  {
   "cell_type": "code",
   "execution_count": 6,
   "id": "aa6c38b0",
   "metadata": {},
   "outputs": [],
   "source": [
    "label_mapping = {\n",
    "        'Not_offensive': 0, \n",
    "        'not-Tamil': 1, \n",
    "        'Offensive': 2, \n",
    "    }"
   ]
  },
  {
   "cell_type": "code",
   "execution_count": 9,
   "id": "dee1d72c",
   "metadata": {},
   "outputs": [],
   "source": [
    "# Collecting Text and Labels\n",
    "train_batch_sentences = list(str(train['text']))\n",
    "train_batch_labels =  [label_mapping[x] for x in train['label']]\n",
    "dev_batch_sentences = list(val['text'])\n",
    "dev_batch_labels =  [label_mapping[x] for x in val['label']]"
   ]
  },
  {
   "cell_type": "code",
   "execution_count": 10,
   "id": "8f7264ac",
   "metadata": {},
   "outputs": [],
   "source": [
    "# Convert to Tensor\n",
    "if 'parameters' in tokenizer.__dict__.keys() and tokenizer.__dict__['_parameters']['model'] == 'ByteLevelBPE':\n",
    "    train_encodings = tokenizer.encode_batch(train_batch_sentences)\n",
    "    dev_encodings = tokenizer.encode_batch(dev_batch_sentences)\n",
    "else:\n",
    "    train_encodings = tokenizer(train_batch_sentences, padding='max_length', truncation=True, max_length=64, return_tensors=\"pt\")\n",
    "    dev_encodings = tokenizer(dev_batch_sentences, padding='max_length', truncation=True, max_length=64, return_tensors=\"pt\")\n",
    "\n",
    "train_labels = torch.tensor(train_batch_labels)\n",
    "dev_labels = torch.tensor(dev_batch_labels)"
   ]
  },
  {
   "cell_type": "code",
   "execution_count": 11,
   "id": "eed38877",
   "metadata": {},
   "outputs": [],
   "source": [
    "# Defining Datasets\n",
    "train_dataset = tamil_Offensive_Dataset(train_encodings, train_labels, bpe = False)\n",
    "dev_dataset = tamil_Offensive_Dataset(dev_encodings, dev_labels, bpe = False)\n",
    "\n",
    "device = torch.device('cuda') if torch.cuda.is_available() else torch.device('cpu')\n",
    "model.to(device)\n",
    "best_val_f1 = 0\n",
    "count = 0"
   ]
  },
  {
   "cell_type": "code",
   "execution_count": 31,
   "id": "ae1e64fb",
   "metadata": {},
   "outputs": [],
   "source": [
    "# Alternate Loss Fn\n",
    "# Weighted Manual Loss Function\n",
    "from sklearn.utils import class_weight\n",
    "import torch.nn as nn\n",
    "\n",
    "weights = class_weight.compute_class_weight(class_weight = 'balanced',classes = np.unique(train_batch_labels),y = train_batch_labels)\n",
    "weights = np.exp(weights)/np.sum(np.exp(weights))\n",
    "class_weights = torch.FloatTensor(weights).to(device)\n",
    "loss_function = nn.CrossEntropyLoss(weight=class_weights, reduction='mean')"
   ]
  },
  {
   "cell_type": "code",
   "execution_count": 34,
   "id": "67608566",
   "metadata": {},
   "outputs": [],
   "source": [
    "# Dataloaders\n",
    "train_loader = DataLoader(train_dataset, batch_size=16, shuffle=True)\n",
    "dev_loader = DataLoader(dev_dataset, batch_size=16, shuffle=False)\n",
    "loss_weighted = True"
   ]
  },
  {
   "cell_type": "code",
   "execution_count": 33,
   "id": "b830865f",
   "metadata": {},
   "outputs": [
    {
     "name": "stdout",
     "output_type": "stream",
     "text": [
      "==========================================================\n",
      "Epoch 0\n",
      "Train\n"
     ]
    },
    {
     "name": "stderr",
     "output_type": "stream",
     "text": [
      "  0%|          | 0/2197 [00:00<?, ?it/s]C:\\Users\\admin\\AppData\\Local\\Temp\\ipykernel_1628\\2961227109.py:9: UserWarning: To copy construct from a tensor, it is recommended to use sourceTensor.clone().detach() or sourceTensor.clone().detach().requires_grad_(True), rather than torch.tensor(sourceTensor).\n",
      "  item = {key: torch.tensor(val[idx]) for key, val in self.encodings.items()}\n",
      "C:\\Users\\admin\\AppData\\Local\\Temp\\ipykernel_1628\\2961227109.py:15: UserWarning: To copy construct from a tensor, it is recommended to use sourceTensor.clone().detach() or sourceTensor.clone().detach().requires_grad_(True), rather than torch.tensor(sourceTensor).\n",
      "  item['labels'] = torch.tensor(self.labels[idx])\n",
      "100%|██████████| 2197/2197 [3:39:30<00:00,  5.99s/it]    \n"
     ]
    },
    {
     "name": "stdout",
     "output_type": "stream",
     "text": [
      "Dev\n"
     ]
    },
    {
     "name": "stderr",
     "output_type": "stream",
     "text": [
      "100%|██████████| 275/275 [05:04<00:00,  1.11s/it]\n"
     ]
    },
    {
     "name": "stdout",
     "output_type": "stream",
     "text": [
      "               precision    recall  f1-score   support\n",
      "\n",
      "Not_offensive       0.84      0.51      0.64     25425\n",
      "    not-Tamil       0.12      0.86      0.21      1454\n",
      "    Offensive       0.42      0.47      0.44      8260\n",
      "\n",
      "     accuracy                           0.52     35139\n",
      "    macro avg       0.46      0.61      0.43     35139\n",
      " weighted avg       0.71      0.52      0.58     35139\n",
      "\n",
      "               precision    recall  f1-score   support\n",
      "\n",
      "Not_offensive       0.91      0.63      0.75      3193\n",
      "    not-Tamil       0.41      0.94      0.57       172\n",
      "    Offensive       0.43      0.75      0.55      1023\n",
      "\n",
      "     accuracy                           0.67      4388\n",
      "    macro avg       0.58      0.77      0.62      4388\n",
      " weighted avg       0.78      0.67      0.69      4388\n",
      "\n",
      "Epoch 0, Train Loss = 0.7306731233960809, Val Loss = 0.5184727655486623, Val F1 = 0.6221883514508227, Best Val f1 = 0.6221883514508227, stagnant = 0\n",
      "==========================================================\n",
      "Epoch 1\n",
      "Train\n"
     ]
    },
    {
     "name": "stderr",
     "output_type": "stream",
     "text": [
      "  0%|          | 0/2197 [00:00<?, ?it/s]C:\\Users\\admin\\AppData\\Local\\Temp\\ipykernel_1628\\2961227109.py:9: UserWarning: To copy construct from a tensor, it is recommended to use sourceTensor.clone().detach() or sourceTensor.clone().detach().requires_grad_(True), rather than torch.tensor(sourceTensor).\n",
      "  item = {key: torch.tensor(val[idx]) for key, val in self.encodings.items()}\n",
      "C:\\Users\\admin\\AppData\\Local\\Temp\\ipykernel_1628\\2961227109.py:15: UserWarning: To copy construct from a tensor, it is recommended to use sourceTensor.clone().detach() or sourceTensor.clone().detach().requires_grad_(True), rather than torch.tensor(sourceTensor).\n",
      "  item['labels'] = torch.tensor(self.labels[idx])\n",
      "100%|██████████| 2197/2197 [2:57:13<00:00,  4.84s/it]  \n"
     ]
    },
    {
     "name": "stdout",
     "output_type": "stream",
     "text": [
      "Dev\n"
     ]
    },
    {
     "name": "stderr",
     "output_type": "stream",
     "text": [
      "100%|██████████| 275/275 [05:23<00:00,  1.18s/it]\n"
     ]
    },
    {
     "name": "stdout",
     "output_type": "stream",
     "text": [
      "               precision    recall  f1-score   support\n",
      "\n",
      "Not_offensive       0.90      0.66      0.76     25425\n",
      "    not-Tamil       0.27      0.91      0.42      1454\n",
      "    Offensive       0.49      0.68      0.57      8260\n",
      "\n",
      "     accuracy                           0.67     35139\n",
      "    macro avg       0.55      0.75      0.58     35139\n",
      " weighted avg       0.77      0.67      0.70     35139\n",
      "\n",
      "               precision    recall  f1-score   support\n",
      "\n",
      "Not_offensive       0.90      0.74      0.81      3193\n",
      "    not-Tamil       0.57      0.87      0.69       172\n",
      "    Offensive       0.50      0.74      0.60      1023\n",
      "\n",
      "     accuracy                           0.74      4388\n",
      "    macro avg       0.66      0.78      0.70      4388\n",
      " weighted avg       0.80      0.74      0.76      4388\n",
      "\n",
      "Epoch 1, Train Loss = 0.5004196689113577, Val Loss = 0.4856082540699705, Val F1 = 0.6994401585597435, Best Val f1 = 0.6994401585597435, stagnant = 0\n",
      "==========================================================\n",
      "Epoch 2\n",
      "Train\n"
     ]
    },
    {
     "name": "stderr",
     "output_type": "stream",
     "text": [
      "  0%|          | 0/2197 [00:00<?, ?it/s]C:\\Users\\admin\\AppData\\Local\\Temp\\ipykernel_1628\\2961227109.py:9: UserWarning: To copy construct from a tensor, it is recommended to use sourceTensor.clone().detach() or sourceTensor.clone().detach().requires_grad_(True), rather than torch.tensor(sourceTensor).\n",
      "  item = {key: torch.tensor(val[idx]) for key, val in self.encodings.items()}\n",
      "C:\\Users\\admin\\AppData\\Local\\Temp\\ipykernel_1628\\2961227109.py:15: UserWarning: To copy construct from a tensor, it is recommended to use sourceTensor.clone().detach() or sourceTensor.clone().detach().requires_grad_(True), rather than torch.tensor(sourceTensor).\n",
      "  item['labels'] = torch.tensor(self.labels[idx])\n",
      "100%|██████████| 2197/2197 [3:03:13<00:00,  5.00s/it]  \n"
     ]
    },
    {
     "name": "stdout",
     "output_type": "stream",
     "text": [
      "Dev\n"
     ]
    },
    {
     "name": "stderr",
     "output_type": "stream",
     "text": [
      "100%|██████████| 275/275 [05:26<00:00,  1.19s/it]\n"
     ]
    },
    {
     "name": "stdout",
     "output_type": "stream",
     "text": [
      "               precision    recall  f1-score   support\n",
      "\n",
      "Not_offensive       0.90      0.72      0.80     25425\n",
      "    not-Tamil       0.37      0.95      0.53      1454\n",
      "    Offensive       0.52      0.70      0.60      8260\n",
      "\n",
      "     accuracy                           0.73     35139\n",
      "    macro avg       0.60      0.79      0.64     35139\n",
      " weighted avg       0.79      0.73      0.74     35139\n",
      "\n",
      "               precision    recall  f1-score   support\n",
      "\n",
      "Not_offensive       0.90      0.78      0.84      3193\n",
      "    not-Tamil       0.56      0.91      0.69       172\n",
      "    Offensive       0.55      0.72      0.62      1023\n",
      "\n",
      "     accuracy                           0.77      4388\n",
      "    macro avg       0.67      0.80      0.72      4388\n",
      " weighted avg       0.80      0.77      0.78      4388\n",
      "\n",
      "Epoch 2, Train Loss = 0.41567704193043864, Val Loss = 0.45846494287760414, Val F1 = 0.7159201609499668, Best Val f1 = 0.7159201609499668, stagnant = 0\n",
      "==========================================================\n",
      "Epoch 3\n",
      "Train\n"
     ]
    },
    {
     "name": "stderr",
     "output_type": "stream",
     "text": [
      "  0%|          | 0/2197 [00:00<?, ?it/s]C:\\Users\\admin\\AppData\\Local\\Temp\\ipykernel_1628\\2961227109.py:9: UserWarning: To copy construct from a tensor, it is recommended to use sourceTensor.clone().detach() or sourceTensor.clone().detach().requires_grad_(True), rather than torch.tensor(sourceTensor).\n",
      "  item = {key: torch.tensor(val[idx]) for key, val in self.encodings.items()}\n",
      "C:\\Users\\admin\\AppData\\Local\\Temp\\ipykernel_1628\\2961227109.py:15: UserWarning: To copy construct from a tensor, it is recommended to use sourceTensor.clone().detach() or sourceTensor.clone().detach().requires_grad_(True), rather than torch.tensor(sourceTensor).\n",
      "  item['labels'] = torch.tensor(self.labels[idx])\n",
      "100%|██████████| 2197/2197 [3:07:46<00:00,  5.13s/it]  \n"
     ]
    },
    {
     "name": "stdout",
     "output_type": "stream",
     "text": [
      "Dev\n"
     ]
    },
    {
     "name": "stderr",
     "output_type": "stream",
     "text": [
      "100%|██████████| 275/275 [05:39<00:00,  1.23s/it]\n"
     ]
    },
    {
     "name": "stdout",
     "output_type": "stream",
     "text": [
      "               precision    recall  f1-score   support\n",
      "\n",
      "Not_offensive       0.91      0.75      0.82     25425\n",
      "    not-Tamil       0.47      0.96      0.63      1454\n",
      "    Offensive       0.54      0.75      0.63      8260\n",
      "\n",
      "     accuracy                           0.76     35139\n",
      "    macro avg       0.64      0.82      0.69     35139\n",
      " weighted avg       0.81      0.76      0.77     35139\n",
      "\n",
      "               precision    recall  f1-score   support\n",
      "\n",
      "Not_offensive       0.90      0.79      0.84      3193\n",
      "    not-Tamil       0.43      0.94      0.59       172\n",
      "    Offensive       0.58      0.68      0.63      1023\n",
      "\n",
      "     accuracy                           0.77      4388\n",
      "    macro avg       0.64      0.80      0.69      4388\n",
      " weighted avg       0.81      0.77      0.78      4388\n",
      "\n",
      "Epoch 3, Train Loss = 0.3602962276347671, Val Loss = 0.42805837181650797, Val F1 = 0.6853552587950832, Best Val f1 = 0.7159201609499668, stagnant = 1\n",
      "==========================================================\n",
      "Epoch 4\n",
      "Train\n"
     ]
    },
    {
     "name": "stderr",
     "output_type": "stream",
     "text": [
      "  0%|          | 0/2197 [00:00<?, ?it/s]C:\\Users\\admin\\AppData\\Local\\Temp\\ipykernel_1628\\2961227109.py:9: UserWarning: To copy construct from a tensor, it is recommended to use sourceTensor.clone().detach() or sourceTensor.clone().detach().requires_grad_(True), rather than torch.tensor(sourceTensor).\n",
      "  item = {key: torch.tensor(val[idx]) for key, val in self.encodings.items()}\n",
      "C:\\Users\\admin\\AppData\\Local\\Temp\\ipykernel_1628\\2961227109.py:15: UserWarning: To copy construct from a tensor, it is recommended to use sourceTensor.clone().detach() or sourceTensor.clone().detach().requires_grad_(True), rather than torch.tensor(sourceTensor).\n",
      "  item['labels'] = torch.tensor(self.labels[idx])\n",
      "100%|██████████| 2197/2197 [3:09:27<00:00,  5.17s/it]  \n"
     ]
    },
    {
     "name": "stdout",
     "output_type": "stream",
     "text": [
      "Dev\n"
     ]
    },
    {
     "name": "stderr",
     "output_type": "stream",
     "text": [
      "100%|██████████| 275/275 [05:54<00:00,  1.29s/it]\n"
     ]
    },
    {
     "name": "stdout",
     "output_type": "stream",
     "text": [
      "               precision    recall  f1-score   support\n",
      "\n",
      "Not_offensive       0.92      0.76      0.83     25425\n",
      "    not-Tamil       0.51      0.97      0.67      1454\n",
      "    Offensive       0.56      0.76      0.65      8260\n",
      "\n",
      "     accuracy                           0.77     35139\n",
      "    macro avg       0.66      0.83      0.72     35139\n",
      " weighted avg       0.82      0.77      0.78     35139\n",
      "\n",
      "               precision    recall  f1-score   support\n",
      "\n",
      "Not_offensive       0.90      0.81      0.85      3193\n",
      "    not-Tamil       0.65      0.85      0.74       172\n",
      "    Offensive       0.56      0.71      0.63      1023\n",
      "\n",
      "     accuracy                           0.78      4388\n",
      "    macro avg       0.70      0.79      0.74      4388\n",
      " weighted avg       0.81      0.78      0.79      4388\n",
      "\n",
      "Epoch 4, Train Loss = 0.3201461789092453, Val Loss = 0.530585306044668, Val F1 = 0.7378064799537162, Best Val f1 = 0.7378064799537162, stagnant = 0\n",
      "==========================================================\n",
      "Epoch 5\n",
      "Train\n"
     ]
    },
    {
     "name": "stderr",
     "output_type": "stream",
     "text": [
      "  0%|          | 0/2197 [00:00<?, ?it/s]C:\\Users\\admin\\AppData\\Local\\Temp\\ipykernel_1628\\2961227109.py:9: UserWarning: To copy construct from a tensor, it is recommended to use sourceTensor.clone().detach() or sourceTensor.clone().detach().requires_grad_(True), rather than torch.tensor(sourceTensor).\n",
      "  item = {key: torch.tensor(val[idx]) for key, val in self.encodings.items()}\n",
      "C:\\Users\\admin\\AppData\\Local\\Temp\\ipykernel_1628\\2961227109.py:15: UserWarning: To copy construct from a tensor, it is recommended to use sourceTensor.clone().detach() or sourceTensor.clone().detach().requires_grad_(True), rather than torch.tensor(sourceTensor).\n",
      "  item['labels'] = torch.tensor(self.labels[idx])\n",
      "100%|██████████| 2197/2197 [3:07:20<00:00,  5.12s/it]  \n"
     ]
    },
    {
     "name": "stdout",
     "output_type": "stream",
     "text": [
      "Dev\n"
     ]
    },
    {
     "name": "stderr",
     "output_type": "stream",
     "text": [
      "100%|██████████| 275/275 [05:43<00:00,  1.25s/it]\n"
     ]
    },
    {
     "name": "stdout",
     "output_type": "stream",
     "text": [
      "               precision    recall  f1-score   support\n",
      "\n",
      "Not_offensive       0.92      0.77      0.84     25425\n",
      "    not-Tamil       0.57      0.98      0.72      1454\n",
      "    Offensive       0.57      0.78      0.65      8260\n",
      "\n",
      "     accuracy                           0.78     35139\n",
      "    macro avg       0.69      0.84      0.74     35139\n",
      " weighted avg       0.82      0.78      0.79     35139\n",
      "\n",
      "               precision    recall  f1-score   support\n",
      "\n",
      "Not_offensive       0.93      0.75      0.83      3193\n",
      "    not-Tamil       0.47      0.95      0.63       172\n",
      "    Offensive       0.54      0.78      0.64      1023\n",
      "\n",
      "     accuracy                           0.76      4388\n",
      "    macro avg       0.65      0.82      0.70      4388\n",
      " weighted avg       0.82      0.76      0.78      4388\n",
      "\n",
      "Epoch 5, Train Loss = 0.3170101687965574, Val Loss = 0.43074587411585863, Val F1 = 0.7000060288081768, Best Val f1 = 0.7378064799537162, stagnant = 1\n",
      "==========================================================\n",
      "Epoch 6\n",
      "Train\n"
     ]
    },
    {
     "name": "stderr",
     "output_type": "stream",
     "text": [
      "  0%|          | 0/2197 [00:00<?, ?it/s]C:\\Users\\admin\\AppData\\Local\\Temp\\ipykernel_1628\\2961227109.py:9: UserWarning: To copy construct from a tensor, it is recommended to use sourceTensor.clone().detach() or sourceTensor.clone().detach().requires_grad_(True), rather than torch.tensor(sourceTensor).\n",
      "  item = {key: torch.tensor(val[idx]) for key, val in self.encodings.items()}\n",
      "C:\\Users\\admin\\AppData\\Local\\Temp\\ipykernel_1628\\2961227109.py:15: UserWarning: To copy construct from a tensor, it is recommended to use sourceTensor.clone().detach() or sourceTensor.clone().detach().requires_grad_(True), rather than torch.tensor(sourceTensor).\n",
      "  item['labels'] = torch.tensor(self.labels[idx])\n",
      "100%|██████████| 2197/2197 [3:04:52<00:00,  5.05s/it]  \n"
     ]
    },
    {
     "name": "stdout",
     "output_type": "stream",
     "text": [
      "Dev\n"
     ]
    },
    {
     "name": "stderr",
     "output_type": "stream",
     "text": [
      "100%|██████████| 275/275 [05:21<00:00,  1.17s/it]\n"
     ]
    },
    {
     "name": "stdout",
     "output_type": "stream",
     "text": [
      "               precision    recall  f1-score   support\n",
      "\n",
      "Not_offensive       0.93      0.79      0.85     25425\n",
      "    not-Tamil       0.59      0.98      0.74      1454\n",
      "    Offensive       0.59      0.79      0.67      8260\n",
      "\n",
      "     accuracy                           0.80     35139\n",
      "    macro avg       0.70      0.85      0.75     35139\n",
      " weighted avg       0.83      0.80      0.81     35139\n",
      "\n",
      "               precision    recall  f1-score   support\n",
      "\n",
      "Not_offensive       0.89      0.84      0.86      3193\n",
      "    not-Tamil       0.59      0.88      0.71       172\n",
      "    Offensive       0.61      0.67      0.64      1023\n",
      "\n",
      "     accuracy                           0.80      4388\n",
      "    macro avg       0.70      0.80      0.74      4388\n",
      " weighted avg       0.81      0.80      0.81      4388\n",
      "\n",
      "Epoch 6, Train Loss = 0.28386176458363216, Val Loss = 0.5356363963733684, Val F1 = 0.7369041674057678, Best Val f1 = 0.7378064799537162, stagnant = 2\n",
      "==========================================================\n",
      "Epoch 7\n",
      "Train\n"
     ]
    },
    {
     "name": "stderr",
     "output_type": "stream",
     "text": [
      "  0%|          | 0/2197 [00:00<?, ?it/s]C:\\Users\\admin\\AppData\\Local\\Temp\\ipykernel_1628\\2961227109.py:9: UserWarning: To copy construct from a tensor, it is recommended to use sourceTensor.clone().detach() or sourceTensor.clone().detach().requires_grad_(True), rather than torch.tensor(sourceTensor).\n",
      "  item = {key: torch.tensor(val[idx]) for key, val in self.encodings.items()}\n",
      "C:\\Users\\admin\\AppData\\Local\\Temp\\ipykernel_1628\\2961227109.py:15: UserWarning: To copy construct from a tensor, it is recommended to use sourceTensor.clone().detach() or sourceTensor.clone().detach().requires_grad_(True), rather than torch.tensor(sourceTensor).\n",
      "  item['labels'] = torch.tensor(self.labels[idx])\n",
      "100%|██████████| 2197/2197 [2:57:22<00:00,  4.84s/it]  \n"
     ]
    },
    {
     "name": "stdout",
     "output_type": "stream",
     "text": [
      "Dev\n"
     ]
    },
    {
     "name": "stderr",
     "output_type": "stream",
     "text": [
      "100%|██████████| 275/275 [05:15<00:00,  1.15s/it]\n"
     ]
    },
    {
     "name": "stdout",
     "output_type": "stream",
     "text": [
      "               precision    recall  f1-score   support\n",
      "\n",
      "Not_offensive       0.94      0.79      0.86     25425\n",
      "    not-Tamil       0.62      0.99      0.76      1454\n",
      "    Offensive       0.60      0.82      0.69      8260\n",
      "\n",
      "     accuracy                           0.81     35139\n",
      "    macro avg       0.72      0.87      0.77     35139\n",
      " weighted avg       0.84      0.81      0.81     35139\n",
      "\n",
      "               precision    recall  f1-score   support\n",
      "\n",
      "Not_offensive       0.89      0.87      0.88      3193\n",
      "    not-Tamil       0.73      0.82      0.77       172\n",
      "    Offensive       0.63      0.66      0.64      1023\n",
      "\n",
      "     accuracy                           0.82      4388\n",
      "    macro avg       0.75      0.78      0.76      4388\n",
      " weighted avg       0.82      0.82      0.82      4388\n",
      "\n",
      "Epoch 7, Train Loss = 0.26751943477601087, Val Loss = 0.6131653035703026, Val F1 = 0.7630105453228063, Best Val f1 = 0.7630105453228063, stagnant = 0\n",
      "==========================================================\n",
      "Epoch 8\n",
      "Train\n"
     ]
    },
    {
     "name": "stderr",
     "output_type": "stream",
     "text": [
      "  0%|          | 0/2197 [00:00<?, ?it/s]C:\\Users\\admin\\AppData\\Local\\Temp\\ipykernel_1628\\2961227109.py:9: UserWarning: To copy construct from a tensor, it is recommended to use sourceTensor.clone().detach() or sourceTensor.clone().detach().requires_grad_(True), rather than torch.tensor(sourceTensor).\n",
      "  item = {key: torch.tensor(val[idx]) for key, val in self.encodings.items()}\n",
      "C:\\Users\\admin\\AppData\\Local\\Temp\\ipykernel_1628\\2961227109.py:15: UserWarning: To copy construct from a tensor, it is recommended to use sourceTensor.clone().detach() or sourceTensor.clone().detach().requires_grad_(True), rather than torch.tensor(sourceTensor).\n",
      "  item['labels'] = torch.tensor(self.labels[idx])\n",
      "100%|██████████| 2197/2197 [3:00:37<00:00,  4.93s/it]  \n"
     ]
    },
    {
     "name": "stdout",
     "output_type": "stream",
     "text": [
      "Dev\n"
     ]
    },
    {
     "name": "stderr",
     "output_type": "stream",
     "text": [
      "100%|██████████| 275/275 [05:21<00:00,  1.17s/it]\n"
     ]
    },
    {
     "name": "stdout",
     "output_type": "stream",
     "text": [
      "               precision    recall  f1-score   support\n",
      "\n",
      "Not_offensive       0.94      0.81      0.87     25425\n",
      "    not-Tamil       0.63      0.99      0.77      1454\n",
      "    Offensive       0.62      0.81      0.70      8260\n",
      "\n",
      "     accuracy                           0.82     35139\n",
      "    macro avg       0.73      0.87      0.78     35139\n",
      " weighted avg       0.85      0.82      0.82     35139\n",
      "\n",
      "               precision    recall  f1-score   support\n",
      "\n",
      "Not_offensive       0.91      0.79      0.85      3193\n",
      "    not-Tamil       0.71      0.86      0.78       172\n",
      "    Offensive       0.55      0.76      0.64      1023\n",
      "\n",
      "     accuracy                           0.79      4388\n",
      "    macro avg       0.73      0.80      0.75      4388\n",
      " weighted avg       0.82      0.79      0.80      4388\n",
      "\n",
      "Epoch 8, Train Loss = 0.24767054148320616, Val Loss = 0.5634147431489757, Val F1 = 0.7548162286079766, Best Val f1 = 0.7630105453228063, stagnant = 1\n",
      "==========================================================\n",
      "Epoch 9\n",
      "Train\n"
     ]
    },
    {
     "name": "stderr",
     "output_type": "stream",
     "text": [
      "  0%|          | 0/2197 [00:00<?, ?it/s]C:\\Users\\admin\\AppData\\Local\\Temp\\ipykernel_1628\\2961227109.py:9: UserWarning: To copy construct from a tensor, it is recommended to use sourceTensor.clone().detach() or sourceTensor.clone().detach().requires_grad_(True), rather than torch.tensor(sourceTensor).\n",
      "  item = {key: torch.tensor(val[idx]) for key, val in self.encodings.items()}\n",
      "C:\\Users\\admin\\AppData\\Local\\Temp\\ipykernel_1628\\2961227109.py:15: UserWarning: To copy construct from a tensor, it is recommended to use sourceTensor.clone().detach() or sourceTensor.clone().detach().requires_grad_(True), rather than torch.tensor(sourceTensor).\n",
      "  item['labels'] = torch.tensor(self.labels[idx])\n",
      "100%|██████████| 2197/2197 [2:59:44<00:00,  4.91s/it]  \n"
     ]
    },
    {
     "name": "stdout",
     "output_type": "stream",
     "text": [
      "Dev\n"
     ]
    },
    {
     "name": "stderr",
     "output_type": "stream",
     "text": [
      "100%|██████████| 275/275 [05:14<00:00,  1.14s/it]"
     ]
    },
    {
     "name": "stdout",
     "output_type": "stream",
     "text": [
      "               precision    recall  f1-score   support\n",
      "\n",
      "Not_offensive       0.94      0.81      0.87     25425\n",
      "    not-Tamil       0.68      0.99      0.81      1454\n",
      "    Offensive       0.62      0.84      0.71      8260\n",
      "\n",
      "     accuracy                           0.83     35139\n",
      "    macro avg       0.75      0.88      0.80     35139\n",
      " weighted avg       0.86      0.83      0.83     35139\n",
      "\n",
      "               precision    recall  f1-score   support\n",
      "\n",
      "Not_offensive       0.91      0.81      0.86      3193\n",
      "    not-Tamil       0.70      0.88      0.78       172\n",
      "    Offensive       0.58      0.75      0.65      1023\n",
      "\n",
      "     accuracy                           0.80      4388\n",
      "    macro avg       0.73      0.81      0.76      4388\n",
      " weighted avg       0.82      0.80      0.81      4388\n",
      "\n",
      "Epoch 9, Train Loss = 0.23409138983945316, Val Loss = 0.6157536917196762, Val F1 = 0.7626767301208378, Best Val f1 = 0.7630105453228063, stagnant = 2\n"
     ]
    },
    {
     "name": "stderr",
     "output_type": "stream",
     "text": [
      "\n"
     ]
    }
   ],
   "source": [
    "for epoch in range(10):\n",
    "    train_preds = []\n",
    "    train_labels = []\n",
    "    total_train_loss = 0\n",
    "    model.train()\n",
    "    print(\"==========================================================\")\n",
    "    print(\"Epoch {}\".format(epoch))\n",
    "    print(\"Train\")\n",
    "    for batch in tqdm(train_loader):\n",
    "        optimizer.zero_grad()\n",
    "        input_ids = batch['input_ids'].to(device)\n",
    "        attention_mask = batch['attention_mask'].to(device)\n",
    "        labels = batch['labels'].to(device)\n",
    "        outputs = model(input_ids, attention_mask=attention_mask, labels=labels)\n",
    "        if loss_weighted:\n",
    "            loss = loss_function(outputs[1], labels)\n",
    "        else:\n",
    "            loss = outputs[0]\n",
    "        loss.backward()\n",
    "        optimizer.step()\n",
    "\n",
    "        for logits in outputs[1].detach().cpu().numpy():\n",
    "            train_preds.append(np.argmax(logits))\n",
    "        for logits in labels.cpu().numpy():\n",
    "            train_labels.append(logits)\n",
    "        total_train_loss += loss.item()/len(train_loader)\n",
    "\n",
    "    print(\"Dev\")\n",
    "    dev_preds = []\n",
    "    model.eval()\n",
    "    total_val_loss = 0\n",
    "    with torch.set_grad_enabled(False):\n",
    "        for batch in tqdm(dev_loader):\n",
    "            input_ids = batch['input_ids'].to(device)\n",
    "            attention_mask = batch['attention_mask'].to(device)\n",
    "            labels = batch['labels'].to(device)\n",
    "            outputs = model(input_ids, attention_mask=attention_mask, labels=labels)\n",
    "            if loss_weighted:\n",
    "                loss = loss_function(outputs[1], labels)\n",
    "            else:\n",
    "                loss = outputs[0]\n",
    "            total_val_loss += loss.item()/len(dev_loader)\n",
    "\n",
    "            for logits in outputs[1].cpu().numpy():\n",
    "                dev_preds.append(np.argmax(logits))\n",
    "\n",
    "    y_true = dev_batch_labels\n",
    "    y_pred = dev_preds\n",
    "    target_names = label_mapping.keys()\n",
    "    train_report = classification_report(train_labels, train_preds, target_names=target_names)\n",
    "    report = classification_report(y_true, y_pred, target_names=target_names)\n",
    "    val_f1 = f1_score(y_true, y_pred, average='macro')\n",
    "\n",
    "    if val_f1 > best_val_f1:\n",
    "        PATH = 'finetuned_models/' + model_name + '.pth'\n",
    "        torch.save(model.state_dict(), PATH)\n",
    "        model.save_pretrained(os.path.join('finetuned_berts/', model_name))\n",
    "        best_val_f1 = val_f1\n",
    "        count = 0\n",
    "    else:\n",
    "        count += 1\n",
    "\n",
    "    print(train_report)\n",
    "    print(report)\n",
    "    print(\"Epoch {}, Train Loss = {}, Val Loss = {}, Val F1 = {}, Best Val f1 = {}, stagnant = {}\".format(epoch, total_train_loss, total_val_loss, val_f1, best_val_f1, count))\n",
    "    if count == 5:\n",
    "        print(\"No increase for 5 epochs, Stopping ...\")\n",
    "        break"
   ]
  },
  {
   "cell_type": "code",
   "execution_count": 3,
   "id": "d2f7f09b",
   "metadata": {},
   "outputs": [
    {
     "name": "stderr",
     "output_type": "stream",
     "text": [
      "Some weights of the model checkpoint at bert-base-multilingual-cased were not used when initializing BertForSequenceClassification: ['cls.seq_relationship.bias', 'cls.predictions.transform.dense.bias', 'cls.predictions.transform.LayerNorm.weight', 'cls.predictions.transform.LayerNorm.bias', 'cls.predictions.decoder.weight', 'cls.predictions.transform.dense.weight', 'cls.predictions.bias', 'cls.seq_relationship.weight']\n",
      "- This IS expected if you are initializing BertForSequenceClassification from the checkpoint of a model trained on another task or with another architecture (e.g. initializing a BertForSequenceClassification model from a BertForPreTraining model).\n",
      "- This IS NOT expected if you are initializing BertForSequenceClassification from the checkpoint of a model that you expect to be exactly identical (initializing a BertForSequenceClassification model from a BertForSequenceClassification model).\n",
      "Some weights of BertForSequenceClassification were not initialized from the model checkpoint at bert-base-multilingual-cased and are newly initialized: ['classifier.weight', 'classifier.bias']\n",
      "You should probably TRAIN this model on a down-stream task to be able to use it for predictions and inference.\n"
     ]
    },
    {
     "data": {
      "text/plain": [
       "<All keys matched successfully>"
      ]
     },
     "execution_count": 3,
     "metadata": {},
     "output_type": "execute_result"
    }
   ],
   "source": [
    "from transformers import BertTokenizer, BertForSequenceClassification\n",
    "tokenizer = BertTokenizer.from_pretrained('bert-base-multilingual-cased')\n",
    "model = BertForSequenceClassification.from_pretrained('bert-base-multilingual-cased', num_labels=3)\n",
    "model.load_state_dict(torch.load('finetuned_models/Mbert_base_cased_tamil_weighted.pth'))"
   ]
  },
  {
   "cell_type": "code",
   "execution_count": 4,
   "id": "5e4712b4",
   "metadata": {},
   "outputs": [],
   "source": [
    "class test_tamil_Offensive_Dataset(Dataset):\n",
    "        def __init__(self, encodings):\n",
    "            self.encodings = encodings\n",
    "\n",
    "        def __getitem__(self, idx):\n",
    "            item = {key: torch.tensor(val[idx]) for key, val in self.encodings.items()}\n",
    "            item['labels'] = torch.tensor(1) # Label is irrelevant, since we need predictions\n",
    "            return item\n",
    "\n",
    "        def __len__(self):\n",
    "            return len(self.encodings[\"input_ids\"])"
   ]
  },
  {
   "cell_type": "code",
   "execution_count": 5,
   "id": "4edc76a4",
   "metadata": {},
   "outputs": [],
   "source": [
    "model.eval()\n",
    "device = torch.device('cuda') if torch.cuda.is_available() else torch.device('cpu')\n",
    "model.to(device)\n",
    "test_sentence = \"இந்த மாதிரி கேடுகெட்ட ஜென்மங்கள் எப்படி நீதியை நிலை நாட்டும்\"\n",
    "test_encodings = tokenizer(test_sentence, padding='max_length', truncation=True, max_length=64, return_tensors=\"pt\")\n",
    "test = test_tamil_Offensive_Dataset(test_encodings)\n",
    "test_loader = DataLoader(test, batch_size=1, shuffle=False)"
   ]
  },
  {
   "cell_type": "code",
   "execution_count": 8,
   "id": "9bb01adb",
   "metadata": {},
   "outputs": [
    {
     "name": "stderr",
     "output_type": "stream",
     "text": [
      "  0%|                                                                                            | 0/1 [00:00<?, ?it/s]C:\\Users\\Admin\\AppData\\Local\\Temp/ipykernel_7628/3583960216.py:6: UserWarning: To copy construct from a tensor, it is recommended to use sourceTensor.clone().detach() or sourceTensor.clone().detach().requires_grad_(True), rather than torch.tensor(sourceTensor).\n",
      "  item = {key: torch.tensor(val[idx]) for key, val in self.encodings.items()}\n",
      "100%|████████████████████████████████████████████████████████████████████████████████████| 1/1 [00:00<00:00,  9.45it/s]"
     ]
    },
    {
     "name": "stdout",
     "output_type": "stream",
     "text": [
      "Offensive\n"
     ]
    },
    {
     "name": "stderr",
     "output_type": "stream",
     "text": [
      "\n"
     ]
    }
   ],
   "source": [
    "test_preds = []\n",
    "with torch.set_grad_enabled(False):\n",
    "        for batch in tqdm(test_loader):\n",
    "            input_ids = batch['input_ids'].to(device)\n",
    "            attention_mask = batch['attention_mask'].to(device)\n",
    "            labels = batch['labels'].to(device)\n",
    "            outputs = model(input_ids, attention_mask=attention_mask, labels=labels)\n",
    "            \n",
    "            for logits in outputs[1].cpu().numpy():\n",
    "                test_preds.append(np.argmax(logits))\n",
    "\n",
    "print(list(label_mapping.keys())[test_preds[0]])"
   ]
  },
  {
   "cell_type": "code",
   "execution_count": null,
   "id": "fcb1d46c",
   "metadata": {},
   "outputs": [],
   "source": []
  }
 ],
 "metadata": {
  "kernelspec": {
   "display_name": "Python 3 (ipykernel)",
   "language": "python",
   "name": "python3"
  },
  "language_info": {
   "codemirror_mode": {
    "name": "ipython",
    "version": 3
   },
   "file_extension": ".py",
   "mimetype": "text/x-python",
   "name": "python",
   "nbconvert_exporter": "python",
   "pygments_lexer": "ipython3",
   "version": "3.9.7"
  }
 },
 "nbformat": 4,
 "nbformat_minor": 5
}
